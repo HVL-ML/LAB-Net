{
 "cells": [
  {
   "cell_type": "markdown",
   "id": "1d1acad8-4184-4723-8667-364a62ae9fd6",
   "metadata": {},
   "source": [
    "# Introduction"
   ]
  },
  {
   "cell_type": "markdown",
   "id": "0e08f7eb-8604-4f81-ae3b-c0b75b2e6fce",
   "metadata": {},
   "source": [
    "Downloads and prepares the **Inria Aerial Image Labeling** dataset, used for pretraining.\n",
    "\n",
    "https://project.inria.fr/aerialimagelabeling/"
   ]
  },
  {
   "cell_type": "code",
   "execution_count": 1,
   "id": "6da0a5f2-95f2-43c2-959b-b079cdf5a38f",
   "metadata": {},
   "outputs": [],
   "source": [
    "import glob, os, pandas as pd, shutil, matplotlib.pyplot as plt\n",
    "from PIL import Image\n",
    "import image_slicer\n",
    "from pathlib import Path"
   ]
  },
  {
   "cell_type": "code",
   "execution_count": 2,
   "id": "719623c1-72ae-4fa1-a0d6-27fd788551d6",
   "metadata": {},
   "outputs": [],
   "source": [
    "# Paths\n",
    "from constants import DATADIR, INRIA_DATA"
   ]
  },
  {
   "cell_type": "code",
   "execution_count": 3,
   "id": "a381f13f-1041-4053-912f-9e1168edb2ac",
   "metadata": {},
   "outputs": [],
   "source": [
    "INRIA_DATA.mkdir(exist_ok=True, parents=True)"
   ]
  },
  {
   "cell_type": "markdown",
   "id": "156bda60-1ec0-48ec-9fec-8d54c3b36611",
   "metadata": {
    "tags": []
   },
   "source": [
    "# Download data"
   ]
  },
  {
   "cell_type": "code",
   "execution_count": 4,
   "id": "3b059d25-f4e3-416c-ae77-bc67859dba3b",
   "metadata": {},
   "outputs": [],
   "source": [
    "downloaded=True"
   ]
  },
  {
   "cell_type": "markdown",
   "id": "89df15c1-344d-4686-bc59-3f456c332498",
   "metadata": {},
   "source": [
    "We base our download method on the script `getAerial.sh`:"
   ]
  },
  {
   "cell_type": "code",
   "execution_count": 5,
   "id": "2ad05b98-685b-4008-9d14-bc61e8f11c04",
   "metadata": {},
   "outputs": [],
   "source": [
    "if not downloaded: \n",
    "    !wget https://files.inria.fr/aerialimagelabeling/getAerial.sh"
   ]
  },
  {
   "cell_type": "code",
   "execution_count": 8,
   "id": "b6e12316-0ce2-482b-81bd-8d0488aec00e",
   "metadata": {},
   "outputs": [
    {
     "name": "stdout",
     "output_type": "stream",
     "text": [
      "#!/bin/bash\n",
      "\n",
      "which 7z >/dev/null || {\n",
      "\techo 'you need 7z ; plz install it'\n",
      "\techo 'ubuntu: sudo apt install p7zip-full'\n",
      "\techo 'centos: sudo yum install p7zip p7zip-pluginsi -y'\n",
      "\texit 1\n",
      "}\n",
      "which unzip >/dev/null || {\n",
      "\techo 'you need unzip command ; plz install it'\n",
      "\techo 'ubuntu: sudo apt install unzip'\n",
      "\techo 'centos: sudo yum install zip unzip -y'\n",
      "\texit 2\n",
      "}\n",
      "wget --no-check-certificate https://files.inria.fr/aerialimagelabeling/aerialimagelabeling.7z.001\n",
      "wget --no-check-certificate https://files.inria.fr/aerialimagelabeling/aerialimagelabeling.7z.002\n",
      "wget --no-check-certificate https://files.inria.fr/aerialimagelabeling/aerialimagelabeling.7z.003\n",
      "wget --no-check-certificate https://files.inria.fr/aerialimagelabeling/aerialimagelabeling.7z.004\n",
      "wget --no-check-certificate https://files.inria.fr/aerialimagelabeling/aerialimagelabeling.7z.005\n",
      "7z x aerialimagelabeling.7z.001\n",
      "unzip NEW2-AerialImageDataset.zip\n",
      "rm -i aerialimagelabeling.7z.* \n",
      "rm -i NEW2-AerialImageDataset.zip\n"
     ]
    }
   ],
   "source": [
    "if not downloaded: \n",
    "    !cat getAerial.sh"
   ]
  },
  {
   "cell_type": "markdown",
   "id": "7ff58f64-2c5c-40e6-ade6-bc1298e96fb5",
   "metadata": {},
   "source": [
    "We run the steps manually below as we want to make sure we're not redownloading or re-extracting anything every time we run the notebook. "
   ]
  },
  {
   "cell_type": "code",
   "execution_count": 6,
   "id": "6b2291ce-d4a1-43ba-add5-e63883cf5da6",
   "metadata": {},
   "outputs": [],
   "source": [
    "if not downloaded:\n",
    "    if os.path.exists(INRIA_DATA/'AerialImageDataset'):\n",
    "        print('Already extracted')\n",
    "    else:\n",
    "        !wget -nc --no-check-certificate https://files.inria.fr/aerialimagelabeling/aerialimagelabeling.7z.001 -P $INRIA_DATA\n",
    "        !wget -nc --no-check-certificate https://files.inria.fr/aerialimagelabeling/aerialimagelabeling.7z.002 -P $INRIA_DATA\n",
    "        !wget -nc --no-check-certificate https://files.inria.fr/aerialimagelabeling/aerialimagelabeling.7z.003 -P $INRIA_DATA\n",
    "        !wget -nc --no-check-certificate https://files.inria.fr/aerialimagelabeling/aerialimagelabeling.7z.004 -P $INRIA_DATA\n",
    "        !wget -nc --no-check-certificate https://files.inria.fr/aerialimagelabeling/aerialimagelabeling.7z.005 -P $INRIA_DATA\n",
    "        !7z x -aos $INRIA_DATA/aerialimagelabeling.7z.001 -o.$INRIA_DATA\n",
    "        !unzip -n $INRIA_DATA/NEW2-AerialImageDataset.zip -d $INRIA_DATA\n",
    "        #    !rm $INRIA_DATA/aerialimagelabeling.7z.* \n",
    "        #    !rm $INRIA_DATA/NEW2-AerialImageDataset.zip"
   ]
  },
  {
   "cell_type": "code",
   "execution_count": 18,
   "id": "6dc8bdba-c9c4-438d-a148-1a6aa23d6c67",
   "metadata": {},
   "outputs": [],
   "source": [
    "INRIA_TRAIN_DATA = INRIA_DATA/'AerialImageDataset'/'train'"
   ]
  },
  {
   "cell_type": "code",
   "execution_count": 19,
   "id": "b4ca0a0c-f210-4ee9-8523-4ce12ab23021",
   "metadata": {},
   "outputs": [
    {
     "data": {
      "text/plain": [
       "[PosixPath('/home/alex/data/mapai/external/inria_aerialimagelabeling/AerialImageDataset/train/gt'),\n",
       " PosixPath('/home/alex/data/mapai/external/inria_aerialimagelabeling/AerialImageDataset/train/images')]"
      ]
     },
     "execution_count": 19,
     "metadata": {},
     "output_type": "execute_result"
    }
   ],
   "source": [
    "list(INRIA_TRAIN_DATA.iterdir())"
   ]
  },
  {
   "cell_type": "markdown",
   "id": "c3231183-6a96-43e4-acf6-24040fb8833f",
   "metadata": {},
   "source": [
    "# Slice the images into 500x500 patches"
   ]
  },
  {
   "cell_type": "markdown",
   "id": "0a0be41f-9ea6-4ce4-aad1-3e4af4a93945",
   "metadata": {},
   "source": [
    "To conform with the MapAI dataset, we slice the images in 500x500 patches and store the patches as PNGs. We use the `image-slicer` library: https://github.com/samdobson/image_slicer"
   ]
  },
  {
   "cell_type": "code",
   "execution_count": 20,
   "id": "af760667-0f14-4110-903b-3fa7d4f2e8f5",
   "metadata": {},
   "outputs": [],
   "source": [
    "PNG = INRIA_DATA/'AerialImageDataset'/'train'/'png'\n",
    "PNG.mkdir(exist_ok=True, parents=True)\n",
    "\n",
    "(PNG/'images').mkdir(exist_ok=True)\n",
    "(PNG/'gt').mkdir(exist_ok=True)"
   ]
  },
  {
   "cell_type": "code",
   "execution_count": 21,
   "id": "2702674f-ccf7-4c1e-ba52-615ff9a60df4",
   "metadata": {},
   "outputs": [],
   "source": [
    "import multiprocessing as mp\n",
    "from functools import partial"
   ]
  },
  {
   "cell_type": "code",
   "execution_count": 22,
   "id": "57e72607-1db9-4837-a5bc-4a6779977d16",
   "metadata": {
    "tags": []
   },
   "outputs": [],
   "source": [
    "def split_to_tiles(fn):\n",
    "    \"\"\"\n",
    "    Input: path to an image\n",
    "    Produces sliced images stored as PNGs\n",
    "    \"\"\"\n",
    "    try:\n",
    "        image_slicer.slice(fn, 100)\n",
    "        path = \"/\".join((fn.split(\"/\")[:-1]))\n",
    "        kind = fn.split(\"/\")[-2]\n",
    "        current_fn = fn.split(\"/\")[-1].split(\".\")[0]\n",
    "        pngs = glob.glob(path + \"/\" + current_fn +\"*.png\")\n",
    "        for png in pngs:\n",
    "            shutil.move(png, PNG/kind)\n",
    "    except:\n",
    "        print()\n",
    "        print(f\"Error in {fn}!\")\n",
    "        print()"
   ]
  },
  {
   "cell_type": "code",
   "execution_count": 23,
   "id": "e08cf363-581d-4e12-b6c4-bbc51973e06a",
   "metadata": {},
   "outputs": [],
   "source": [
    "train_val = 'train'"
   ]
  },
  {
   "cell_type": "code",
   "execution_count": 24,
   "id": "5e1dfc81-43d4-4b86-923e-b17b0a7c144e",
   "metadata": {},
   "outputs": [],
   "source": [
    "img_list = glob.glob(f'{str(INRIA_DATA)}/AerialImageDataset/{train_val}/images/*.tif')\n",
    "mask_list = glob.glob(f'{str(INRIA_DATA)}/AerialImageDataset/{train_val}/gt/*.tif')"
   ]
  },
  {
   "cell_type": "code",
   "execution_count": 25,
   "id": "0e2a9163-3e0b-4d29-bf2d-d1584348925b",
   "metadata": {},
   "outputs": [],
   "source": [
    "pool = mp.Pool(processes=32)"
   ]
  },
  {
   "cell_type": "code",
   "execution_count": 26,
   "id": "5997851b-81fd-480f-a8ba-b32193cf5d75",
   "metadata": {},
   "outputs": [],
   "source": [
    "pool.map(split_to_tiles, img_list);"
   ]
  },
  {
   "cell_type": "code",
   "execution_count": 27,
   "id": "3b0c5fec-83dd-4f4b-bfe9-5fa188af21bd",
   "metadata": {},
   "outputs": [],
   "source": [
    "pool.map(split_to_tiles, mask_list);"
   ]
  },
  {
   "cell_type": "code",
   "execution_count": 14,
   "id": "25b6fe52-ff92-4648-bcbc-aed0f700a969",
   "metadata": {},
   "outputs": [],
   "source": [
    "img_list = sorted([str(img) for img in list((PNG/'images').glob('*.png'))])\n",
    "mask_list = [str(fn).replace('images', 'gt') for fn in img_list]"
   ]
  },
  {
   "cell_type": "code",
   "execution_count": 15,
   "id": "0d5f9e61-0616-4966-90de-e44cab9b7861",
   "metadata": {},
   "outputs": [],
   "source": [
    "train_data = {'image': img_list, 'mask': mask_list, 'is_val':False}\n",
    "train_df_inria = pd.DataFrame.from_dict(train_data)"
   ]
  },
  {
   "cell_type": "code",
   "execution_count": 29,
   "id": "beebad11-eacc-42c0-b40c-1db4f6c25632",
   "metadata": {},
   "outputs": [],
   "source": [
    "def get_location(path):\n",
    "    fn = path.split(\"/\")[-1]\n",
    "    return fn.split(\".\")[0].split(\"_\")[0]"
   ]
  },
  {
   "cell_type": "code",
   "execution_count": 32,
   "id": "0cc6c53c-8749-4686-ac87-6c57841072a4",
   "metadata": {},
   "outputs": [
    {
     "data": {
      "text/plain": [
       "'austin10'"
      ]
     },
     "execution_count": 32,
     "metadata": {},
     "output_type": "execute_result"
    }
   ],
   "source": [
    "get_location('/home/ubuntu/data/mapai/external/inria_aerialimagelabeling/AerialImageDataset/train/png/images/austin10_01_01.png')"
   ]
  },
  {
   "cell_type": "code",
   "execution_count": 33,
   "id": "59c2c2a0-e691-4d46-97b1-464b474dc39a",
   "metadata": {},
   "outputs": [],
   "source": [
    "train_df_inria['location'] = train_df_inria.image.apply(get_location)"
   ]
  },
  {
   "cell_type": "code",
   "execution_count": 34,
   "id": "80fd6495-3c71-4ec3-8f62-cbdc5f462314",
   "metadata": {},
   "outputs": [
    {
     "data": {
      "text/html": [
       "<div>\n",
       "<style scoped>\n",
       "    .dataframe tbody tr th:only-of-type {\n",
       "        vertical-align: middle;\n",
       "    }\n",
       "\n",
       "    .dataframe tbody tr th {\n",
       "        vertical-align: top;\n",
       "    }\n",
       "\n",
       "    .dataframe thead th {\n",
       "        text-align: right;\n",
       "    }\n",
       "</style>\n",
       "<table border=\"1\" class=\"dataframe\">\n",
       "  <thead>\n",
       "    <tr style=\"text-align: right;\">\n",
       "      <th></th>\n",
       "      <th>image</th>\n",
       "      <th>mask</th>\n",
       "      <th>is_val</th>\n",
       "      <th>location</th>\n",
       "    </tr>\n",
       "  </thead>\n",
       "  <tbody>\n",
       "    <tr>\n",
       "      <th>0</th>\n",
       "      <td>/home/ubuntu/data/mapai/external/inria_aeriali...</td>\n",
       "      <td>/home/ubuntu/data/mapai/external/inria_aeriali...</td>\n",
       "      <td>False</td>\n",
       "      <td>austin10</td>\n",
       "    </tr>\n",
       "    <tr>\n",
       "      <th>1</th>\n",
       "      <td>/home/ubuntu/data/mapai/external/inria_aeriali...</td>\n",
       "      <td>/home/ubuntu/data/mapai/external/inria_aeriali...</td>\n",
       "      <td>False</td>\n",
       "      <td>austin10</td>\n",
       "    </tr>\n",
       "    <tr>\n",
       "      <th>2</th>\n",
       "      <td>/home/ubuntu/data/mapai/external/inria_aeriali...</td>\n",
       "      <td>/home/ubuntu/data/mapai/external/inria_aeriali...</td>\n",
       "      <td>False</td>\n",
       "      <td>austin10</td>\n",
       "    </tr>\n",
       "    <tr>\n",
       "      <th>3</th>\n",
       "      <td>/home/ubuntu/data/mapai/external/inria_aeriali...</td>\n",
       "      <td>/home/ubuntu/data/mapai/external/inria_aeriali...</td>\n",
       "      <td>False</td>\n",
       "      <td>austin10</td>\n",
       "    </tr>\n",
       "    <tr>\n",
       "      <th>4</th>\n",
       "      <td>/home/ubuntu/data/mapai/external/inria_aeriali...</td>\n",
       "      <td>/home/ubuntu/data/mapai/external/inria_aeriali...</td>\n",
       "      <td>False</td>\n",
       "      <td>austin10</td>\n",
       "    </tr>\n",
       "  </tbody>\n",
       "</table>\n",
       "</div>"
      ],
      "text/plain": [
       "                                               image  \\\n",
       "0  /home/ubuntu/data/mapai/external/inria_aeriali...   \n",
       "1  /home/ubuntu/data/mapai/external/inria_aeriali...   \n",
       "2  /home/ubuntu/data/mapai/external/inria_aeriali...   \n",
       "3  /home/ubuntu/data/mapai/external/inria_aeriali...   \n",
       "4  /home/ubuntu/data/mapai/external/inria_aeriali...   \n",
       "\n",
       "                                                mask  is_val  location  \n",
       "0  /home/ubuntu/data/mapai/external/inria_aeriali...   False  austin10  \n",
       "1  /home/ubuntu/data/mapai/external/inria_aeriali...   False  austin10  \n",
       "2  /home/ubuntu/data/mapai/external/inria_aeriali...   False  austin10  \n",
       "3  /home/ubuntu/data/mapai/external/inria_aeriali...   False  austin10  \n",
       "4  /home/ubuntu/data/mapai/external/inria_aeriali...   False  austin10  "
      ]
     },
     "execution_count": 34,
     "metadata": {},
     "output_type": "execute_result"
    }
   ],
   "source": [
    "train_df_inria.head()"
   ]
  },
  {
   "cell_type": "code",
   "execution_count": 35,
   "id": "54ea09de-bcfc-455b-a7ad-d2618b793da8",
   "metadata": {},
   "outputs": [],
   "source": [
    "from datetime import date\n",
    "today = date.today()"
   ]
  },
  {
   "cell_type": "code",
   "execution_count": 37,
   "id": "b4773f65-5d81-4fdd-8925-4a4027744123",
   "metadata": {},
   "outputs": [],
   "source": [
    "train_df_inria.to_csv(f'../csv/inria_aerial_image_dataset_train-{today}.csv', index=False)"
   ]
  },
  {
   "cell_type": "markdown",
   "id": "e9684a81-cef7-4a41-adf3-9b07e9b053d0",
   "metadata": {},
   "source": [
    "# Inspect data"
   ]
  },
  {
   "cell_type": "code",
   "execution_count": null,
   "id": "c70a2108-0509-4940-9f8a-038089661eaf",
   "metadata": {},
   "outputs": [],
   "source": [
    "from plotting import plot_image_and_masks_from_df"
   ]
  },
  {
   "cell_type": "code",
   "execution_count": 23,
   "id": "d6ee1da0-1599-4d52-86f5-b79c7091356b",
   "metadata": {},
   "outputs": [],
   "source": [
    "from ipywidgets import interact, interactive, IntSlider, Select, RadioButtons, fixed, BoundedIntText"
   ]
  },
  {
   "cell_type": "code",
   "execution_count": 24,
   "id": "ebe2042d-b27e-448f-b673-3d4a5e288b0e",
   "metadata": {},
   "outputs": [],
   "source": [
    "interactive_plot = interactive(plot_image, df=fixed(train_df_inria),\n",
    "                               imgidx = BoundedIntText(min=0, max=len(train_df_inria)-1, step=1, value=0),\n",
    "                               figsize = BoundedIntText(min=4, max=12, step=1, value=6),\n",
    "                               with_segm= RadioButtons(options=[True,False], value=True, \n",
    "                                                      description=\"With segmentation\"))\n",
    "\n",
    "output = interactive_plot.children[-1]"
   ]
  },
  {
   "cell_type": "code",
   "execution_count": 25,
   "id": "362dcd31-d4a1-4af9-80d2-6651f3bba1e5",
   "metadata": {},
   "outputs": [
    {
     "data": {
      "application/vnd.jupyter.widget-view+json": {
       "model_id": "18eb45a281ea411883838b395b050ba0",
       "version_major": 2,
       "version_minor": 0
      },
      "text/plain": [
       "interactive(children=(BoundedIntText(value=0, description='imgidx', max=17999), BoundedIntText(value=6, descri…"
      ]
     },
     "metadata": {},
     "output_type": "display_data"
    }
   ],
   "source": [
    "interactive_plot"
   ]
  },
  {
   "cell_type": "code",
   "execution_count": null,
   "id": "adcb9938-727f-4495-8283-fb803e2324ae",
   "metadata": {},
   "outputs": [],
   "source": []
  }
 ],
 "metadata": {
  "kernelspec": {
   "display_name": "mapai",
   "language": "python",
   "name": "mapai"
  },
  "language_info": {
   "codemirror_mode": {
    "name": "ipython",
    "version": 3
   },
   "file_extension": ".py",
   "mimetype": "text/x-python",
   "name": "python",
   "nbconvert_exporter": "python",
   "pygments_lexer": "ipython3",
   "version": "3.10.8"
  },
  "toc": {
   "base_numbering": 1,
   "nav_menu": {},
   "number_sections": true,
   "sideBar": true,
   "skip_h1_title": false,
   "title_cell": "Table of Contents",
   "title_sidebar": "Contents",
   "toc_cell": false,
   "toc_position": {},
   "toc_section_display": true,
   "toc_window_display": false
  }
 },
 "nbformat": 4,
 "nbformat_minor": 5
}
