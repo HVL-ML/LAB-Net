{
 "cells": [
  {
   "cell_type": "markdown",
   "id": "77a99cae-ee45-41ab-8a32-e57a7e0957b5",
   "metadata": {},
   "source": [
    "# Introduction\n",
    "\n",
    "This notebook loads the MapAI data from the Huggingface. It also computes some basic information about the images: <br>\n",
    "* what percentage of each image is labeled as 1 in the mask, and \n",
    "* which images contain buildings and which are empty."
   ]
  },
  {
   "cell_type": "markdown",
   "id": "0a66fc06-78a2-4141-84f8-69fcc1cd8bfc",
   "metadata": {},
   "source": [
    "# Download the data"
   ]
  },
  {
   "cell_type": "code",
   "execution_count": 1,
   "id": "140cf9ce-e9b2-4d4a-af9a-b1e0f75d280c",
   "metadata": {},
   "outputs": [],
   "source": [
    "from pathlib import Path\n",
    "import shutil\n",
    "from datasets import load_dataset\n",
    "import pandas as pd\n",
    "import datetime"
   ]
  },
  {
   "cell_type": "code",
   "execution_count": 2,
   "id": "938e53a9-b0cf-4eb4-9bc6-19c7ba2944fd",
   "metadata": {},
   "outputs": [],
   "source": [
    "import sys\n",
    "sys.path.append(\"../src\")"
   ]
  },
  {
   "cell_type": "code",
   "execution_count": 2,
   "id": "650ff388-f69a-466d-89b9-4170919762ff",
   "metadata": {
    "scrolled": true
   },
   "outputs": [
    {
     "name": "stderr",
     "output_type": "stream",
     "text": [
      "Found cached dataset mapai_training_data (/home/alex/.cache/huggingface/datasets/sjyhne___mapai_training_data/building_segmentation/1.0.0/b0b52f8c47ddbeae1962ab524cabb5fbed58d91cc70f9ac4c5981c071ad5f248)\n"
     ]
    },
    {
     "data": {
      "application/vnd.jupyter.widget-view+json": {
       "model_id": "d9a0666e7aaa472c9ef6b8ebd93743a6",
       "version_major": 2,
       "version_minor": 0
      },
      "text/plain": [
       "  0%|          | 0/2 [00:00<?, ?it/s]"
      ]
     },
     "metadata": {},
     "output_type": "display_data"
    },
    {
     "data": {
      "text/plain": [
       "DatasetDict({\n",
       "    train: Dataset({\n",
       "        features: ['image', 'lidar', 'mask'],\n",
       "        num_rows: 7000\n",
       "    })\n",
       "    validation: Dataset({\n",
       "        features: ['image', 'lidar', 'mask'],\n",
       "        num_rows: 1500\n",
       "    })\n",
       "})"
      ]
     },
     "execution_count": 2,
     "metadata": {},
     "output_type": "execute_result"
    }
   ],
   "source": [
    "dataset = load_dataset(\"sjyhne/mapai_training_data\")\n",
    "dataset"
   ]
  },
  {
   "cell_type": "markdown",
   "id": "fa19e3e8-90ed-4a7d-b58d-fc33cc49e843",
   "metadata": {},
   "source": [
    "Move the data to a user-defined location:"
   ]
  },
  {
   "cell_type": "code",
   "execution_count": 3,
   "id": "1179a295-14b0-4354-892f-010675cda77f",
   "metadata": {},
   "outputs": [],
   "source": [
    "# Update in constants.py to point to wherever you want to store the raw MapAI data\n",
    "from constants import DATADIR"
   ]
  },
  {
   "cell_type": "code",
   "execution_count": 4,
   "id": "fc7bd1bf",
   "metadata": {},
   "outputs": [
    {
     "data": {
      "text/plain": [
       "PosixPath('/home/alex/data/mapai')"
      ]
     },
     "execution_count": 4,
     "metadata": {},
     "output_type": "execute_result"
    }
   ],
   "source": [
    "DATADIR"
   ]
  },
  {
   "cell_type": "code",
   "execution_count": 5,
   "id": "ad59610e",
   "metadata": {},
   "outputs": [],
   "source": [
    "move=False\n",
    "\n",
    "if move: shutil.move(\"../../data\", DATADIR)"
   ]
  },
  {
   "cell_type": "code",
   "execution_count": 5,
   "id": "1a0a7b97-4d16-455c-a0c0-b92ba39f19d3",
   "metadata": {},
   "outputs": [],
   "source": [
    "train, val = dataset['train'], dataset['validation']"
   ]
  },
  {
   "cell_type": "code",
   "execution_count": 6,
   "id": "592c1476-18f1-44b0-9958-8179da8c004f",
   "metadata": {},
   "outputs": [
    {
     "data": {
      "text/plain": [
       "Dataset({\n",
       "    features: ['image', 'lidar', 'mask'],\n",
       "    num_rows: 7000\n",
       "})"
      ]
     },
     "execution_count": 6,
     "metadata": {},
     "output_type": "execute_result"
    }
   ],
   "source": [
    "train"
   ]
  },
  {
   "cell_type": "markdown",
   "id": "c99d821e",
   "metadata": {},
   "source": [
    "# Add information about building extent"
   ]
  },
  {
   "cell_type": "code",
   "execution_count": 6,
   "id": "b7b2876c",
   "metadata": {},
   "outputs": [],
   "source": [
    "from PIL import Image\n",
    "import numpy as np, matplotlib.pyplot as plt"
   ]
  },
  {
   "cell_type": "code",
   "execution_count": 7,
   "id": "aa148863",
   "metadata": {},
   "outputs": [],
   "source": [
    "from utils import get_building_percentage, count_buildings"
   ]
  },
  {
   "cell_type": "markdown",
   "id": "a8c34310",
   "metadata": {},
   "source": [
    "## Compute and store in dataframes"
   ]
  },
  {
   "cell_type": "code",
   "execution_count": 10,
   "id": "204a5012-b24a-45c2-8790-33571591c48d",
   "metadata": {},
   "outputs": [],
   "source": [
    "train_data = {'image': train['image'], 'lidar': train['lidar'], 'mask': train['mask'], 'is_val':False}\n",
    "train_df = pd.DataFrame.from_dict(train_data)"
   ]
  },
  {
   "cell_type": "code",
   "execution_count": 10,
   "id": "530312d3-01fc-4464-b8f4-5bead2e71af9",
   "metadata": {},
   "outputs": [],
   "source": [
    "from utils import update_paths"
   ]
  },
  {
   "cell_type": "code",
   "execution_count": 12,
   "id": "2c4391e2-c5c9-4d76-8374-a3e4758f444b",
   "metadata": {},
   "outputs": [],
   "source": [
    "train_df['image'] = train_df['image'].apply(update_paths)\n",
    "train_df['lidar'] = train_df['lidar'].apply(update_paths)\n",
    "train_df['mask'] = train_df['mask'].apply(update_paths)"
   ]
  },
  {
   "cell_type": "code",
   "execution_count": 13,
   "id": "83a0c935-1830-426d-bd21-4ef64d0bece2",
   "metadata": {},
   "outputs": [],
   "source": [
    "train_df['mask_percentage'] = train_df['mask'].apply(get_building_percentage)"
   ]
  },
  {
   "cell_type": "code",
   "execution_count": 14,
   "id": "c7e72ab4-c352-4ad6-9070-ec5e658adf54",
   "metadata": {},
   "outputs": [
    {
     "data": {
      "text/html": [
       "<div>\n",
       "<style scoped>\n",
       "    .dataframe tbody tr th:only-of-type {\n",
       "        vertical-align: middle;\n",
       "    }\n",
       "\n",
       "    .dataframe tbody tr th {\n",
       "        vertical-align: top;\n",
       "    }\n",
       "\n",
       "    .dataframe thead th {\n",
       "        text-align: right;\n",
       "    }\n",
       "</style>\n",
       "<table border=\"1\" class=\"dataframe\">\n",
       "  <thead>\n",
       "    <tr style=\"text-align: right;\">\n",
       "      <th></th>\n",
       "      <th>image</th>\n",
       "      <th>lidar</th>\n",
       "      <th>mask</th>\n",
       "      <th>is_val</th>\n",
       "      <th>mask_percentage</th>\n",
       "    </tr>\n",
       "  </thead>\n",
       "  <tbody>\n",
       "    <tr>\n",
       "      <th>0</th>\n",
       "      <td>/home/alex/data/mapai/data/train/images/6179_4...</td>\n",
       "      <td>/home/alex/data/mapai/data/train/lidar/6179_49...</td>\n",
       "      <td>/home/alex/data/mapai/data/train/masks/6179_49...</td>\n",
       "      <td>False</td>\n",
       "      <td>0.155224</td>\n",
       "    </tr>\n",
       "    <tr>\n",
       "      <th>1</th>\n",
       "      <td>/home/alex/data/mapai/data/train/images/6051_6...</td>\n",
       "      <td>/home/alex/data/mapai/data/train/lidar/6051_69...</td>\n",
       "      <td>/home/alex/data/mapai/data/train/masks/6051_69...</td>\n",
       "      <td>False</td>\n",
       "      <td>0.000000</td>\n",
       "    </tr>\n",
       "    <tr>\n",
       "      <th>2</th>\n",
       "      <td>/home/alex/data/mapai/data/train/images/6121_8...</td>\n",
       "      <td>/home/alex/data/mapai/data/train/lidar/6121_86...</td>\n",
       "      <td>/home/alex/data/mapai/data/train/masks/6121_86...</td>\n",
       "      <td>False</td>\n",
       "      <td>0.017824</td>\n",
       "    </tr>\n",
       "    <tr>\n",
       "      <th>3</th>\n",
       "      <td>/home/alex/data/mapai/data/train/images/6173_6...</td>\n",
       "      <td>/home/alex/data/mapai/data/train/lidar/6173_63...</td>\n",
       "      <td>/home/alex/data/mapai/data/train/masks/6173_63...</td>\n",
       "      <td>False</td>\n",
       "      <td>0.000000</td>\n",
       "    </tr>\n",
       "    <tr>\n",
       "      <th>4</th>\n",
       "      <td>/home/alex/data/mapai/data/train/images/6147_4...</td>\n",
       "      <td>/home/alex/data/mapai/data/train/lidar/6147_48...</td>\n",
       "      <td>/home/alex/data/mapai/data/train/masks/6147_48...</td>\n",
       "      <td>False</td>\n",
       "      <td>0.182664</td>\n",
       "    </tr>\n",
       "  </tbody>\n",
       "</table>\n",
       "</div>"
      ],
      "text/plain": [
       "                                               image  \\\n",
       "0  /home/alex/data/mapai/data/train/images/6179_4...   \n",
       "1  /home/alex/data/mapai/data/train/images/6051_6...   \n",
       "2  /home/alex/data/mapai/data/train/images/6121_8...   \n",
       "3  /home/alex/data/mapai/data/train/images/6173_6...   \n",
       "4  /home/alex/data/mapai/data/train/images/6147_4...   \n",
       "\n",
       "                                               lidar  \\\n",
       "0  /home/alex/data/mapai/data/train/lidar/6179_49...   \n",
       "1  /home/alex/data/mapai/data/train/lidar/6051_69...   \n",
       "2  /home/alex/data/mapai/data/train/lidar/6121_86...   \n",
       "3  /home/alex/data/mapai/data/train/lidar/6173_63...   \n",
       "4  /home/alex/data/mapai/data/train/lidar/6147_48...   \n",
       "\n",
       "                                                mask  is_val  mask_percentage  \n",
       "0  /home/alex/data/mapai/data/train/masks/6179_49...   False         0.155224  \n",
       "1  /home/alex/data/mapai/data/train/masks/6051_69...   False         0.000000  \n",
       "2  /home/alex/data/mapai/data/train/masks/6121_86...   False         0.017824  \n",
       "3  /home/alex/data/mapai/data/train/masks/6173_63...   False         0.000000  \n",
       "4  /home/alex/data/mapai/data/train/masks/6147_48...   False         0.182664  "
      ]
     },
     "execution_count": 14,
     "metadata": {},
     "output_type": "execute_result"
    }
   ],
   "source": [
    "train_df.head()"
   ]
  },
  {
   "cell_type": "code",
   "execution_count": 15,
   "id": "e75d4700-d8b4-4b75-a649-4729e313750d",
   "metadata": {},
   "outputs": [],
   "source": [
    "val_data = {'image': val['image'], 'lidar': val['lidar'], 'mask': val['mask'], 'is_val':True}\n",
    "val_df = pd.DataFrame.from_dict(val_data)"
   ]
  },
  {
   "cell_type": "code",
   "execution_count": 16,
   "id": "6c965b31-6a61-41ef-b4bf-e7712f539fff",
   "metadata": {},
   "outputs": [],
   "source": [
    "val_df['image'] = val_df['image'].apply(update_paths)\n",
    "val_df['lidar'] = val_df['lidar'].apply(update_paths)\n",
    "val_df['mask'] = val_df['mask'].apply(update_paths)"
   ]
  },
  {
   "cell_type": "code",
   "execution_count": 17,
   "id": "385ee955-ce43-4e5d-9802-1c7576978835",
   "metadata": {},
   "outputs": [],
   "source": [
    "val_df['mask_percentage'] = val_df['mask'].apply(get_building_percentage)"
   ]
  },
  {
   "cell_type": "code",
   "execution_count": 18,
   "id": "aada9cf2-5f56-4923-beee-fcffd99e60af",
   "metadata": {},
   "outputs": [],
   "source": [
    "df = pd.concat([train_df, val_df]).reset_index(drop=True)"
   ]
  },
  {
   "cell_type": "code",
   "execution_count": 19,
   "id": "3ffff0ef-bd2b-4e35-9307-1967fa88bf58",
   "metadata": {},
   "outputs": [
    {
     "data": {
      "text/html": [
       "<div>\n",
       "<style scoped>\n",
       "    .dataframe tbody tr th:only-of-type {\n",
       "        vertical-align: middle;\n",
       "    }\n",
       "\n",
       "    .dataframe tbody tr th {\n",
       "        vertical-align: top;\n",
       "    }\n",
       "\n",
       "    .dataframe thead th {\n",
       "        text-align: right;\n",
       "    }\n",
       "</style>\n",
       "<table border=\"1\" class=\"dataframe\">\n",
       "  <thead>\n",
       "    <tr style=\"text-align: right;\">\n",
       "      <th></th>\n",
       "      <th>image</th>\n",
       "      <th>lidar</th>\n",
       "      <th>mask</th>\n",
       "      <th>is_val</th>\n",
       "      <th>mask_percentage</th>\n",
       "    </tr>\n",
       "  </thead>\n",
       "  <tbody>\n",
       "    <tr>\n",
       "      <th>0</th>\n",
       "      <td>/home/alex/data/mapai/data/train/images/6179_4...</td>\n",
       "      <td>/home/alex/data/mapai/data/train/lidar/6179_49...</td>\n",
       "      <td>/home/alex/data/mapai/data/train/masks/6179_49...</td>\n",
       "      <td>False</td>\n",
       "      <td>0.155224</td>\n",
       "    </tr>\n",
       "    <tr>\n",
       "      <th>1</th>\n",
       "      <td>/home/alex/data/mapai/data/train/images/6051_6...</td>\n",
       "      <td>/home/alex/data/mapai/data/train/lidar/6051_69...</td>\n",
       "      <td>/home/alex/data/mapai/data/train/masks/6051_69...</td>\n",
       "      <td>False</td>\n",
       "      <td>0.000000</td>\n",
       "    </tr>\n",
       "    <tr>\n",
       "      <th>2</th>\n",
       "      <td>/home/alex/data/mapai/data/train/images/6121_8...</td>\n",
       "      <td>/home/alex/data/mapai/data/train/lidar/6121_86...</td>\n",
       "      <td>/home/alex/data/mapai/data/train/masks/6121_86...</td>\n",
       "      <td>False</td>\n",
       "      <td>0.017824</td>\n",
       "    </tr>\n",
       "    <tr>\n",
       "      <th>3</th>\n",
       "      <td>/home/alex/data/mapai/data/train/images/6173_6...</td>\n",
       "      <td>/home/alex/data/mapai/data/train/lidar/6173_63...</td>\n",
       "      <td>/home/alex/data/mapai/data/train/masks/6173_63...</td>\n",
       "      <td>False</td>\n",
       "      <td>0.000000</td>\n",
       "    </tr>\n",
       "    <tr>\n",
       "      <th>4</th>\n",
       "      <td>/home/alex/data/mapai/data/train/images/6147_4...</td>\n",
       "      <td>/home/alex/data/mapai/data/train/lidar/6147_48...</td>\n",
       "      <td>/home/alex/data/mapai/data/train/masks/6147_48...</td>\n",
       "      <td>False</td>\n",
       "      <td>0.182664</td>\n",
       "    </tr>\n",
       "  </tbody>\n",
       "</table>\n",
       "</div>"
      ],
      "text/plain": [
       "                                               image  \\\n",
       "0  /home/alex/data/mapai/data/train/images/6179_4...   \n",
       "1  /home/alex/data/mapai/data/train/images/6051_6...   \n",
       "2  /home/alex/data/mapai/data/train/images/6121_8...   \n",
       "3  /home/alex/data/mapai/data/train/images/6173_6...   \n",
       "4  /home/alex/data/mapai/data/train/images/6147_4...   \n",
       "\n",
       "                                               lidar  \\\n",
       "0  /home/alex/data/mapai/data/train/lidar/6179_49...   \n",
       "1  /home/alex/data/mapai/data/train/lidar/6051_69...   \n",
       "2  /home/alex/data/mapai/data/train/lidar/6121_86...   \n",
       "3  /home/alex/data/mapai/data/train/lidar/6173_63...   \n",
       "4  /home/alex/data/mapai/data/train/lidar/6147_48...   \n",
       "\n",
       "                                                mask  is_val  mask_percentage  \n",
       "0  /home/alex/data/mapai/data/train/masks/6179_49...   False         0.155224  \n",
       "1  /home/alex/data/mapai/data/train/masks/6051_69...   False         0.000000  \n",
       "2  /home/alex/data/mapai/data/train/masks/6121_86...   False         0.017824  \n",
       "3  /home/alex/data/mapai/data/train/masks/6173_63...   False         0.000000  \n",
       "4  /home/alex/data/mapai/data/train/masks/6147_48...   False         0.182664  "
      ]
     },
     "execution_count": 19,
     "metadata": {},
     "output_type": "execute_result"
    }
   ],
   "source": [
    "df.head()"
   ]
  },
  {
   "cell_type": "code",
   "execution_count": 20,
   "id": "2e5417dc-5296-4f64-9e8f-96a827a6c972",
   "metadata": {},
   "outputs": [],
   "source": [
    "df['is_building'] = False"
   ]
  },
  {
   "cell_type": "code",
   "execution_count": 21,
   "id": "20a05502-fe99-4ff1-89ee-3da6ec861d38",
   "metadata": {},
   "outputs": [],
   "source": [
    "df.loc[df['mask_percentage'] > 0, 'is_building'] = True"
   ]
  },
  {
   "cell_type": "code",
   "execution_count": 22,
   "id": "209dc043",
   "metadata": {},
   "outputs": [
    {
     "data": {
      "text/plain": [
       "8500"
      ]
     },
     "execution_count": 22,
     "metadata": {},
     "output_type": "execute_result"
    }
   ],
   "source": [
    "len(df)"
   ]
  },
  {
   "cell_type": "code",
   "execution_count": 23,
   "id": "64e06d42-332e-492d-bda6-ae87c2ae9f0e",
   "metadata": {},
   "outputs": [
    {
     "data": {
      "text/plain": [
       "True     6458\n",
       "False    2042\n",
       "Name: is_building, dtype: int64"
      ]
     },
     "execution_count": 23,
     "metadata": {},
     "output_type": "execute_result"
    }
   ],
   "source": [
    "df.is_building.value_counts()"
   ]
  },
  {
   "cell_type": "markdown",
   "id": "90dfe68a",
   "metadata": {},
   "source": [
    "## Save to CSV"
   ]
  },
  {
   "cell_type": "code",
   "execution_count": 25,
   "id": "281ba1e2-e3d8-42e6-8f2c-9fb66b8f21dc",
   "metadata": {},
   "outputs": [],
   "source": [
    "df.to_csv(f'../csv/train_val_original-{datetime.date.today()}.csv', index=False)"
   ]
  },
  {
   "cell_type": "markdown",
   "id": "31b75fc4-aa32-461f-9253-77be2ba445b8",
   "metadata": {},
   "source": [
    "# Inspect data"
   ]
  },
  {
   "cell_type": "code",
   "execution_count": 6,
   "id": "1f86ee03-9212-4151-9e02-0a3322e771a1",
   "metadata": {},
   "outputs": [],
   "source": [
    "df = pd.read_csv(f'../csv/train_val_original-2022-11-24.csv')"
   ]
  },
  {
   "cell_type": "code",
   "execution_count": 7,
   "id": "ace27167-8279-4b02-a608-f57eb986c014",
   "metadata": {},
   "outputs": [],
   "source": [
    "from utils import update_paths"
   ]
  },
  {
   "cell_type": "code",
   "execution_count": 8,
   "id": "894db9e8-db73-44e1-9617-71e7caffe402",
   "metadata": {},
   "outputs": [],
   "source": [
    "df['image'] = df['image'].apply(update_paths)\n",
    "df['lidar'] = df['lidar'].apply(update_paths)\n",
    "df['mask'] = df['mask'].apply(update_paths)"
   ]
  },
  {
   "cell_type": "code",
   "execution_count": 9,
   "id": "7e734357-d4f6-4c2f-8e4f-c6abcf8353a3",
   "metadata": {},
   "outputs": [
    {
     "data": {
      "text/html": [
       "<div>\n",
       "<style scoped>\n",
       "    .dataframe tbody tr th:only-of-type {\n",
       "        vertical-align: middle;\n",
       "    }\n",
       "\n",
       "    .dataframe tbody tr th {\n",
       "        vertical-align: top;\n",
       "    }\n",
       "\n",
       "    .dataframe thead th {\n",
       "        text-align: right;\n",
       "    }\n",
       "</style>\n",
       "<table border=\"1\" class=\"dataframe\">\n",
       "  <thead>\n",
       "    <tr style=\"text-align: right;\">\n",
       "      <th></th>\n",
       "      <th>image</th>\n",
       "      <th>lidar</th>\n",
       "      <th>mask</th>\n",
       "      <th>is_val</th>\n",
       "      <th>mask_percentage</th>\n",
       "      <th>is_building</th>\n",
       "    </tr>\n",
       "  </thead>\n",
       "  <tbody>\n",
       "    <tr>\n",
       "      <th>0</th>\n",
       "      <td>/home/alex/data/mapai/data/train/images/6179_4...</td>\n",
       "      <td>/home/alex/data/mapai/data/train/lidar/6179_49...</td>\n",
       "      <td>/home/alex/data/mapai/data/train/masks/6179_49...</td>\n",
       "      <td>False</td>\n",
       "      <td>0.155224</td>\n",
       "      <td>True</td>\n",
       "    </tr>\n",
       "    <tr>\n",
       "      <th>1</th>\n",
       "      <td>/home/alex/data/mapai/data/train/images/6051_6...</td>\n",
       "      <td>/home/alex/data/mapai/data/train/lidar/6051_69...</td>\n",
       "      <td>/home/alex/data/mapai/data/train/masks/6051_69...</td>\n",
       "      <td>False</td>\n",
       "      <td>0.000000</td>\n",
       "      <td>False</td>\n",
       "    </tr>\n",
       "    <tr>\n",
       "      <th>2</th>\n",
       "      <td>/home/alex/data/mapai/data/train/images/6121_8...</td>\n",
       "      <td>/home/alex/data/mapai/data/train/lidar/6121_86...</td>\n",
       "      <td>/home/alex/data/mapai/data/train/masks/6121_86...</td>\n",
       "      <td>False</td>\n",
       "      <td>0.017824</td>\n",
       "      <td>True</td>\n",
       "    </tr>\n",
       "    <tr>\n",
       "      <th>3</th>\n",
       "      <td>/home/alex/data/mapai/data/train/images/6173_6...</td>\n",
       "      <td>/home/alex/data/mapai/data/train/lidar/6173_63...</td>\n",
       "      <td>/home/alex/data/mapai/data/train/masks/6173_63...</td>\n",
       "      <td>False</td>\n",
       "      <td>0.000000</td>\n",
       "      <td>False</td>\n",
       "    </tr>\n",
       "    <tr>\n",
       "      <th>4</th>\n",
       "      <td>/home/alex/data/mapai/data/train/images/6147_4...</td>\n",
       "      <td>/home/alex/data/mapai/data/train/lidar/6147_48...</td>\n",
       "      <td>/home/alex/data/mapai/data/train/masks/6147_48...</td>\n",
       "      <td>False</td>\n",
       "      <td>0.182664</td>\n",
       "      <td>True</td>\n",
       "    </tr>\n",
       "  </tbody>\n",
       "</table>\n",
       "</div>"
      ],
      "text/plain": [
       "                                               image  \\\n",
       "0  /home/alex/data/mapai/data/train/images/6179_4...   \n",
       "1  /home/alex/data/mapai/data/train/images/6051_6...   \n",
       "2  /home/alex/data/mapai/data/train/images/6121_8...   \n",
       "3  /home/alex/data/mapai/data/train/images/6173_6...   \n",
       "4  /home/alex/data/mapai/data/train/images/6147_4...   \n",
       "\n",
       "                                               lidar  \\\n",
       "0  /home/alex/data/mapai/data/train/lidar/6179_49...   \n",
       "1  /home/alex/data/mapai/data/train/lidar/6051_69...   \n",
       "2  /home/alex/data/mapai/data/train/lidar/6121_86...   \n",
       "3  /home/alex/data/mapai/data/train/lidar/6173_63...   \n",
       "4  /home/alex/data/mapai/data/train/lidar/6147_48...   \n",
       "\n",
       "                                                mask  is_val  mask_percentage  \\\n",
       "0  /home/alex/data/mapai/data/train/masks/6179_49...   False         0.155224   \n",
       "1  /home/alex/data/mapai/data/train/masks/6051_69...   False         0.000000   \n",
       "2  /home/alex/data/mapai/data/train/masks/6121_86...   False         0.017824   \n",
       "3  /home/alex/data/mapai/data/train/masks/6173_63...   False         0.000000   \n",
       "4  /home/alex/data/mapai/data/train/masks/6147_48...   False         0.182664   \n",
       "\n",
       "   is_building  \n",
       "0         True  \n",
       "1        False  \n",
       "2         True  \n",
       "3        False  \n",
       "4         True  "
      ]
     },
     "execution_count": 9,
     "metadata": {},
     "output_type": "execute_result"
    }
   ],
   "source": [
    "df.head()"
   ]
  },
  {
   "cell_type": "code",
   "execution_count": 10,
   "id": "a0c644df-c8f8-44b1-945d-caa6424f938a",
   "metadata": {},
   "outputs": [],
   "source": [
    "from plotting import plot_image_and_masks_from_df"
   ]
  },
  {
   "cell_type": "code",
   "execution_count": 11,
   "id": "d6ee1da0-1599-4d52-86f5-b79c7091356b",
   "metadata": {},
   "outputs": [],
   "source": [
    "from ipywidgets import interact, interactive, IntSlider, Select, RadioButtons, fixed, BoundedIntText"
   ]
  },
  {
   "cell_type": "code",
   "execution_count": 12,
   "id": "ebe2042d-b27e-448f-b673-3d4a5e288b0e",
   "metadata": {},
   "outputs": [],
   "source": [
    "interactive_plot = interactive(plot_image_and_masks_from_df, df=fixed(df),\n",
    "                               imgidx = BoundedIntText(min=0, max=len(df)-1, step=1, value=0),\n",
    "                               figsize = BoundedIntText(min=4, max=12, step=1, value=6),\n",
    "                               with_segm= RadioButtons(options=[True,False], value=True, \n",
    "                                                      description=\"With segmentation\"))\n",
    "\n",
    "output = interactive_plot.children[-1]"
   ]
  },
  {
   "cell_type": "code",
   "execution_count": 13,
   "id": "362dcd31-d4a1-4af9-80d2-6651f3bba1e5",
   "metadata": {},
   "outputs": [
    {
     "data": {
      "application/vnd.jupyter.widget-view+json": {
       "model_id": "a61ca389b4da46e5bfe685652d9bd30d",
       "version_major": 2,
       "version_minor": 0
      },
      "text/plain": [
       "interactive(children=(BoundedIntText(value=0, description='imgidx', max=8499), BoundedIntText(value=6, descrip…"
      ]
     },
     "execution_count": 13,
     "metadata": {},
     "output_type": "execute_result"
    }
   ],
   "source": [
    "interactive_plot"
   ]
  },
  {
   "cell_type": "markdown",
   "id": "842e53b5-970a-4641-98d2-80678f46d3dd",
   "metadata": {},
   "source": [
    "# Insert location information"
   ]
  },
  {
   "cell_type": "code",
   "execution_count": 14,
   "id": "4ef36332-f428-4436-b674-9d164990f34a",
   "metadata": {},
   "outputs": [],
   "source": [
    "def get_location(fn):\n",
    "    fn = Path(fn)\n",
    "    \n",
    "    return \"_\".join(fn.stem.split(\"_\")[:-1])"
   ]
  },
  {
   "cell_type": "code",
   "execution_count": 15,
   "id": "a3481196-ac40-4f3b-8564-ba0671c50d7f",
   "metadata": {},
   "outputs": [],
   "source": [
    "df['location'] = df['image'].apply(get_location)"
   ]
  },
  {
   "cell_type": "code",
   "execution_count": 16,
   "id": "9ae0ff1f-98ae-4bd7-ae6f-874c3ff90629",
   "metadata": {
    "scrolled": true
   },
   "outputs": [
    {
     "data": {
      "text/html": [
       "<div>\n",
       "<style scoped>\n",
       "    .dataframe tbody tr th:only-of-type {\n",
       "        vertical-align: middle;\n",
       "    }\n",
       "\n",
       "    .dataframe tbody tr th {\n",
       "        vertical-align: top;\n",
       "    }\n",
       "\n",
       "    .dataframe thead th {\n",
       "        text-align: right;\n",
       "    }\n",
       "</style>\n",
       "<table border=\"1\" class=\"dataframe\">\n",
       "  <thead>\n",
       "    <tr style=\"text-align: right;\">\n",
       "      <th></th>\n",
       "      <th>image</th>\n",
       "      <th>lidar</th>\n",
       "      <th>mask</th>\n",
       "      <th>is_val</th>\n",
       "      <th>mask_percentage</th>\n",
       "      <th>is_building</th>\n",
       "      <th>location</th>\n",
       "    </tr>\n",
       "  </thead>\n",
       "  <tbody>\n",
       "    <tr>\n",
       "      <th>0</th>\n",
       "      <td>/home/alex/data/mapai/data/train/images/6179_4...</td>\n",
       "      <td>/home/alex/data/mapai/data/train/lidar/6179_49...</td>\n",
       "      <td>/home/alex/data/mapai/data/train/masks/6179_49...</td>\n",
       "      <td>False</td>\n",
       "      <td>0.155224</td>\n",
       "      <td>True</td>\n",
       "      <td>6179_495</td>\n",
       "    </tr>\n",
       "    <tr>\n",
       "      <th>1</th>\n",
       "      <td>/home/alex/data/mapai/data/train/images/6051_6...</td>\n",
       "      <td>/home/alex/data/mapai/data/train/lidar/6051_69...</td>\n",
       "      <td>/home/alex/data/mapai/data/train/masks/6051_69...</td>\n",
       "      <td>False</td>\n",
       "      <td>0.000000</td>\n",
       "      <td>False</td>\n",
       "      <td>6051_690</td>\n",
       "    </tr>\n",
       "    <tr>\n",
       "      <th>2</th>\n",
       "      <td>/home/alex/data/mapai/data/train/images/6121_8...</td>\n",
       "      <td>/home/alex/data/mapai/data/train/lidar/6121_86...</td>\n",
       "      <td>/home/alex/data/mapai/data/train/masks/6121_86...</td>\n",
       "      <td>False</td>\n",
       "      <td>0.017824</td>\n",
       "      <td>True</td>\n",
       "      <td>6121_865</td>\n",
       "    </tr>\n",
       "    <tr>\n",
       "      <th>3</th>\n",
       "      <td>/home/alex/data/mapai/data/train/images/6173_6...</td>\n",
       "      <td>/home/alex/data/mapai/data/train/lidar/6173_63...</td>\n",
       "      <td>/home/alex/data/mapai/data/train/masks/6173_63...</td>\n",
       "      <td>False</td>\n",
       "      <td>0.000000</td>\n",
       "      <td>False</td>\n",
       "      <td>6173_630</td>\n",
       "    </tr>\n",
       "    <tr>\n",
       "      <th>4</th>\n",
       "      <td>/home/alex/data/mapai/data/train/images/6147_4...</td>\n",
       "      <td>/home/alex/data/mapai/data/train/lidar/6147_48...</td>\n",
       "      <td>/home/alex/data/mapai/data/train/masks/6147_48...</td>\n",
       "      <td>False</td>\n",
       "      <td>0.182664</td>\n",
       "      <td>True</td>\n",
       "      <td>6147_481</td>\n",
       "    </tr>\n",
       "  </tbody>\n",
       "</table>\n",
       "</div>"
      ],
      "text/plain": [
       "                                               image  \\\n",
       "0  /home/alex/data/mapai/data/train/images/6179_4...   \n",
       "1  /home/alex/data/mapai/data/train/images/6051_6...   \n",
       "2  /home/alex/data/mapai/data/train/images/6121_8...   \n",
       "3  /home/alex/data/mapai/data/train/images/6173_6...   \n",
       "4  /home/alex/data/mapai/data/train/images/6147_4...   \n",
       "\n",
       "                                               lidar  \\\n",
       "0  /home/alex/data/mapai/data/train/lidar/6179_49...   \n",
       "1  /home/alex/data/mapai/data/train/lidar/6051_69...   \n",
       "2  /home/alex/data/mapai/data/train/lidar/6121_86...   \n",
       "3  /home/alex/data/mapai/data/train/lidar/6173_63...   \n",
       "4  /home/alex/data/mapai/data/train/lidar/6147_48...   \n",
       "\n",
       "                                                mask  is_val  mask_percentage  \\\n",
       "0  /home/alex/data/mapai/data/train/masks/6179_49...   False         0.155224   \n",
       "1  /home/alex/data/mapai/data/train/masks/6051_69...   False         0.000000   \n",
       "2  /home/alex/data/mapai/data/train/masks/6121_86...   False         0.017824   \n",
       "3  /home/alex/data/mapai/data/train/masks/6173_63...   False         0.000000   \n",
       "4  /home/alex/data/mapai/data/train/masks/6147_48...   False         0.182664   \n",
       "\n",
       "   is_building  location  \n",
       "0         True  6179_495  \n",
       "1        False  6051_690  \n",
       "2         True  6121_865  \n",
       "3        False  6173_630  \n",
       "4         True  6147_481  "
      ]
     },
     "execution_count": 16,
     "metadata": {},
     "output_type": "execute_result"
    }
   ],
   "source": [
    "df.head()"
   ]
  },
  {
   "cell_type": "code",
   "execution_count": 37,
   "id": "cf313537-3f09-4a74-8297-2d96f30367d6",
   "metadata": {},
   "outputs": [],
   "source": [
    "df.to_csv(f'../csv/train_val_with_info-{datetime.date.today()}.csv', index=None)"
   ]
  }
 ],
 "metadata": {
  "kernelspec": {
   "display_name": "mapai",
   "language": "python",
   "name": "mapai"
  },
  "language_info": {
   "codemirror_mode": {
    "name": "ipython",
    "version": 3
   },
   "file_extension": ".py",
   "mimetype": "text/x-python",
   "name": "python",
   "nbconvert_exporter": "python",
   "pygments_lexer": "ipython3",
   "version": "3.10.8"
  },
  "toc": {
   "base_numbering": 1,
   "nav_menu": {},
   "number_sections": true,
   "sideBar": true,
   "skip_h1_title": false,
   "title_cell": "Table of Contents",
   "title_sidebar": "Contents",
   "toc_cell": false,
   "toc_position": {},
   "toc_section_display": true,
   "toc_window_display": false
  }
 },
 "nbformat": 4,
 "nbformat_minor": 5
}
